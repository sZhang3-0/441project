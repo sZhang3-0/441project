{
  "nbformat": 4,
  "nbformat_minor": 0,
  "metadata": {
    "colab": {
      "provenance": [],
      "gpuType": "T4"
    },
    "kernelspec": {
      "name": "python3",
      "display_name": "Python 3"
    },
    "language_info": {
      "name": "python"
    },
    "accelerator": "GPU"
  },
  "cells": [
    {
      "cell_type": "code",
      "source": [
        "from google.colab import drive\n",
        "drive.mount('/content/drive')"
      ],
      "metadata": {
        "colab": {
          "base_uri": "https://localhost:8080/"
        },
        "id": "KJn_nGlF0pu3",
        "outputId": "20ec5968-4c95-44cc-8c09-a4c750dcba35"
      },
      "execution_count": 1,
      "outputs": [
        {
          "output_type": "stream",
          "name": "stdout",
          "text": [
            "Drive already mounted at /content/drive; to attempt to forcibly remount, call drive.mount(\"/content/drive\", force_remount=True).\n"
          ]
        }
      ]
    },
    {
      "cell_type": "code",
      "source": [
        "pip install scikit-optimize"
      ],
      "metadata": {
        "colab": {
          "base_uri": "https://localhost:8080/"
        },
        "id": "i5u6cp-K5GKv",
        "outputId": "7ff851db-3d88-4e88-b031-8ac2849be473"
      },
      "execution_count": 2,
      "outputs": [
        {
          "output_type": "stream",
          "name": "stdout",
          "text": [
            "Requirement already satisfied: scikit-optimize in /usr/local/lib/python3.11/dist-packages (0.10.2)\n",
            "Requirement already satisfied: joblib>=0.11 in /usr/local/lib/python3.11/dist-packages (from scikit-optimize) (1.4.2)\n",
            "Requirement already satisfied: pyaml>=16.9 in /usr/local/lib/python3.11/dist-packages (from scikit-optimize) (25.1.0)\n",
            "Requirement already satisfied: numpy>=1.20.3 in /usr/local/lib/python3.11/dist-packages (from scikit-optimize) (2.0.2)\n",
            "Requirement already satisfied: scipy>=1.1.0 in /usr/local/lib/python3.11/dist-packages (from scikit-optimize) (1.14.1)\n",
            "Requirement already satisfied: scikit-learn>=1.0.0 in /usr/local/lib/python3.11/dist-packages (from scikit-optimize) (1.6.1)\n",
            "Requirement already satisfied: packaging>=21.3 in /usr/local/lib/python3.11/dist-packages (from scikit-optimize) (24.2)\n",
            "Requirement already satisfied: PyYAML in /usr/local/lib/python3.11/dist-packages (from pyaml>=16.9->scikit-optimize) (6.0.2)\n",
            "Requirement already satisfied: threadpoolctl>=3.1.0 in /usr/local/lib/python3.11/dist-packages (from scikit-learn>=1.0.0->scikit-optimize) (3.6.0)\n"
          ]
        }
      ]
    },
    {
      "cell_type": "code",
      "source": [
        "\n",
        "import pandas as pd\n",
        "import numpy as np\n",
        "\n",
        "from sklearn.model_selection import train_test_split, StratifiedKFold, cross_val_score\n",
        "from sklearn.preprocessing import StandardScaler\n",
        "from sklearn.linear_model import LogisticRegression\n",
        "from sklearn.pipeline import Pipeline\n",
        "from sklearn.metrics import roc_auc_score, classification_report, confusion_matrix\n",
        "\n",
        "\n",
        "from imblearn.over_sampling import SMOTE\n",
        "from imblearn.pipeline import Pipeline as ImbPipeline\n",
        "\n",
        "\n",
        "\n",
        "from skopt import BayesSearchCV\n",
        "from skopt.space import Real, Categorical\n",
        "\n"
      ],
      "metadata": {
        "id": "ezZ1GO3R0ziw"
      },
      "execution_count": 3,
      "outputs": []
    },
    {
      "cell_type": "code",
      "source": [
        "RANDOM_STATE = 42\n",
        "CSV_PATH     = \"/content/drive/MyDrive/441/creditcard.csv\"     # adapt if needed"
      ],
      "metadata": {
        "id": "vXywI2TY1MLG"
      },
      "execution_count": 4,
      "outputs": []
    },
    {
      "cell_type": "markdown",
      "source": [
        "Feature Engineering"
      ],
      "metadata": {
        "id": "fJWp8LSc2B54"
      }
    },
    {
      "cell_type": "code",
      "source": [
        "df = (\n",
        "    pd.read_csv(CSV_PATH)\n",
        "      .sort_values(\"Time\")\n",
        "      .reset_index(drop=True)\n",
        ")"
      ],
      "metadata": {
        "id": "E3Qix4aT5P83"
      },
      "execution_count": 5,
      "outputs": []
    },
    {
      "cell_type": "code",
      "source": [
        "df[\"Hour\"] = ((df[\"Time\"] // 3600) % 24).astype(np.int8)\n",
        "\n",
        "# Time since previous recorded transaction\n",
        "df[\"TimeSincePrev\"] = df[\"Time\"].diff().fillna(df[\"Time\"]).astype(np.float32)\n",
        "\n",
        "# Binary “night time” flag (00:00–06:00)\n",
        "df[\"IsNight\"] = (df[\"Hour\"] < 6).astype(np.int8)"
      ],
      "metadata": {
        "id": "nuhgkvq55Qgj"
      },
      "execution_count": 6,
      "outputs": []
    },
    {
      "cell_type": "code",
      "source": [
        "X = df.drop(columns=\"Class\")\n",
        "y = df[\"Class\"]\n",
        "\n",
        "X_train, X_test, y_train, y_test = train_test_split(\n",
        "    X, y, test_size=0.2, stratify=y, random_state=RANDOM_STATE\n",
        ")"
      ],
      "metadata": {
        "id": "ZhZ6kre_5SBV"
      },
      "execution_count": 7,
      "outputs": []
    },
    {
      "cell_type": "code",
      "source": [
        "\n",
        "base_pipe = Pipeline([\n",
        "    (\"scaler\", StandardScaler()),\n",
        "    (\"logreg\", LogisticRegression(\n",
        "        max_iter=1000,\n",
        "        solver=\"liblinear\",\n",
        "        class_weight=\"balanced\",\n",
        "        random_state=RANDOM_STATE,\n",
        "    ))\n",
        "])"
      ],
      "metadata": {
        "id": "L5E7kh995Vwb"
      },
      "execution_count": 8,
      "outputs": []
    },
    {
      "cell_type": "code",
      "source": [
        "cv = StratifiedKFold(n_splits=3, shuffle=True, random_state=RANDOM_STATE)\n",
        "\n",
        "def cv_auc(pipe, name):\n",
        "    scores = cross_val_score(pipe, X_train, y_train,\n",
        "                             scoring=\"roc_auc\", cv=cv, n_jobs=-1)\n",
        "    print(f\"{name:12s} – mean AUC: {scores.mean():.4f} ± {scores.std():.4f}\")\n",
        "\n",
        "cv_auc(base_pipe,  \"ClassWeight\")"
      ],
      "metadata": {
        "colab": {
          "base_uri": "https://localhost:8080/"
        },
        "id": "FjhbV8WK5dEr",
        "outputId": "c3bb746b-af38-43e2-86ff-b118ba73137e"
      },
      "execution_count": 9,
      "outputs": [
        {
          "output_type": "stream",
          "name": "stdout",
          "text": [
            "ClassWeight  – mean AUC: 0.9809 ± 0.0057\n"
          ]
        }
      ]
    },
    {
      "cell_type": "code",
      "source": [
        "search_space = {\n",
        "    \"logreg__C\": Real(1e-3, 1e+2, prior=\"log-uniform\"),\n",
        "    \"logreg__penalty\": Categorical([\"l1\", \"l2\"]),\n",
        "}\n",
        "\n",
        "bayes_tuner = BayesSearchCV(\n",
        "    estimator=base_pipe,\n",
        "    search_spaces=search_space,\n",
        "    scoring=\"roc_auc\",\n",
        "    cv=cv,\n",
        "    n_iter=12,\n",
        "    n_jobs=-1,\n",
        "    random_state=RANDOM_STATE,\n",
        "    verbose=10,\n",
        ")\n",
        "\n",
        "bayes_tuner.fit(X_train, y_train)\n",
        "print(\"Best AUC (cv):\", bayes_tuner.best_score_)\n",
        "print(\"Best params :\", bayes_tuner.best_params_)\n",
        "best_model = bayes_tuner.best_estimator_"
      ],
      "metadata": {
        "colab": {
          "base_uri": "https://localhost:8080/"
        },
        "id": "Lg8epKJE5dot",
        "outputId": "fbc39077-bc9d-477e-b0b0-1a569c6d682c"
      },
      "execution_count": 10,
      "outputs": [
        {
          "output_type": "stream",
          "name": "stdout",
          "text": [
            "Fitting 3 folds for each of 1 candidates, totalling 3 fits\n",
            "Fitting 3 folds for each of 1 candidates, totalling 3 fits\n",
            "Fitting 3 folds for each of 1 candidates, totalling 3 fits\n",
            "Fitting 3 folds for each of 1 candidates, totalling 3 fits\n",
            "Fitting 3 folds for each of 1 candidates, totalling 3 fits\n",
            "Fitting 3 folds for each of 1 candidates, totalling 3 fits\n",
            "Fitting 3 folds for each of 1 candidates, totalling 3 fits\n",
            "Fitting 3 folds for each of 1 candidates, totalling 3 fits\n",
            "Fitting 3 folds for each of 1 candidates, totalling 3 fits\n",
            "Fitting 3 folds for each of 1 candidates, totalling 3 fits\n",
            "Fitting 3 folds for each of 1 candidates, totalling 3 fits\n",
            "Fitting 3 folds for each of 1 candidates, totalling 3 fits\n",
            "Best AUC (cv): 0.9829275504080858\n",
            "Best params : OrderedDict([('logreg__C', 0.0010426811836320535), ('logreg__penalty', 'l2')])\n"
          ]
        }
      ]
    },
    {
      "cell_type": "code",
      "source": [
        "y_prob = best_model.predict_proba(X_test)[:, 1]\n",
        "y_pred = (y_prob >= 0.5).astype(int)        # tune threshold later\n",
        "\n",
        "print(\"Test AUC :\", roc_auc_score(y_test, y_prob))\n",
        "print(\"Report   :\\n\", classification_report(y_test, y_pred, digits=4))\n",
        "print(\"Confusion matrix:\\n\", confusion_matrix(y_test, y_pred))"
      ],
      "metadata": {
        "colab": {
          "base_uri": "https://localhost:8080/"
        },
        "id": "yrE4aeaG5pPu",
        "outputId": "791c1307-431b-440c-c6da-396e2b1c75fc"
      },
      "execution_count": 11,
      "outputs": [
        {
          "output_type": "stream",
          "name": "stdout",
          "text": [
            "Test AUC : 0.9759914095069655\n",
            "Report   :\n",
            "               precision    recall  f1-score   support\n",
            "\n",
            "           0     0.9999    0.9783    0.9890     56864\n",
            "           1     0.0680    0.9184    0.1266        98\n",
            "\n",
            "    accuracy                         0.9782     56962\n",
            "   macro avg     0.5339    0.9483    0.5578     56962\n",
            "weighted avg     0.9983    0.9782    0.9875     56962\n",
            "\n",
            "Confusion matrix:\n",
            " [[55630  1234]\n",
            " [    8    90]]\n"
          ]
        }
      ]
    },
    {
      "cell_type": "code",
      "source": [
        "from sklearn.metrics import precision_recall_curve\n",
        "y_prob_test = best_model.predict_proba(X_test)[:, 1]\n",
        "prec, rec, thresh = precision_recall_curve(y_test, y_prob_test)\n",
        "\n",
        "target_precision = 0.90\n",
        "idx       = np.where(prec >= target_precision)[0][0]\n",
        "cutoff    = thresh[idx]\n",
        "\n",
        "print(f\"Cutoff chosen = {cutoff:.3f}  \"\n",
        "      f\"(precision={prec[idx]:.3f}, recall={rec[idx]:.3f})\")"
      ],
      "metadata": {
        "colab": {
          "base_uri": "https://localhost:8080/"
        },
        "id": "kLreKKaRNKz6",
        "outputId": "8da9e65f-d01d-45c7-a658-d24ce1cf7ace"
      },
      "execution_count": 12,
      "outputs": [
        {
          "output_type": "stream",
          "name": "stdout",
          "text": [
            "Cutoff chosen = 1.000  (precision=0.900, recall=0.276)\n"
          ]
        }
      ]
    },
    {
      "cell_type": "code",
      "source": [
        "y_pred_adj = (y_prob_test >= cutoff).astype(int)\n",
        "\n",
        "print(classification_report(y_test, y_pred_adj, digits=4))\n",
        "print(confusion_matrix(y_test, y_pred_adj))"
      ],
      "metadata": {
        "colab": {
          "base_uri": "https://localhost:8080/"
        },
        "id": "oV305BYLNGcE",
        "outputId": "183668e2-60ed-443e-9278-fc4538da5c0a"
      },
      "execution_count": 13,
      "outputs": [
        {
          "output_type": "stream",
          "name": "stdout",
          "text": [
            "              precision    recall  f1-score   support\n",
            "\n",
            "           0     0.9988    0.9999    0.9993     56864\n",
            "           1     0.9000    0.2755    0.4219        98\n",
            "\n",
            "    accuracy                         0.9987     56962\n",
            "   macro avg     0.9494    0.6377    0.7106     56962\n",
            "weighted avg     0.9986    0.9987    0.9984     56962\n",
            "\n",
            "[[56861     3]\n",
            " [   71    27]]\n"
          ]
        }
      ]
    },
    {
      "cell_type": "code",
      "source": [
        "import joblib\n",
        "from pathlib import Path\n",
        "\n",
        "model_dir = Path(\"/content/drive/MyDrive/Model\")\n",
        "\n",
        "\n",
        "to_save = {\n",
        "    \"model\" : best_model,   # full Pipeline returned by BayesSearchCV\n",
        "    \"cutoff\": cutoff\n",
        "    }\n",
        "\n",
        "\n",
        "joblib.dump(to_save, model_dir / \"fraud_logreg.pkl\", compress=3)\n",
        "\n",
        "print(\"✔ Model & threshold saved to\", model_dir / \"fraud_logreg.pkl\")"
      ],
      "metadata": {
        "colab": {
          "base_uri": "https://localhost:8080/"
        },
        "id": "Pg9Grfjy3kyC",
        "outputId": "34c152bf-9a59-4433-b380-e0de8ff5d7b1"
      },
      "execution_count": 14,
      "outputs": [
        {
          "output_type": "stream",
          "name": "stdout",
          "text": [
            "✔ Model & threshold saved to /content/drive/MyDrive/Model/fraud_logreg.pkl\n"
          ]
        }
      ]
    }
  ]
}